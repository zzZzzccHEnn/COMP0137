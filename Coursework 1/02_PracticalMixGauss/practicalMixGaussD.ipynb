{
 "cells": [
  {
   "cell_type": "code",
   "execution_count": 1,
   "metadata": {},
   "outputs": [],
   "source": [
    "import os \n",
    "import numpy as np\n",
    "import matplotlib.pyplot as plt\n",
    "import scipy.io as spio\n",
    "from scipy.stats import norm \n",
    "from scipy.stats import multivariate_normal\n",
    "import time\n",
    "import sys\n",
    "\n",
    "flt_min = sys.float_info.min\n",
    "\n",
    "%matplotlib inline"
   ]
  },
  {
   "cell_type": "markdown",
   "metadata": {},
   "source": [
    "## EXTRA THINGS TO DO (Optional)\n",
    "1. Most of the code you have so far (both provided by us and probably coded by you) is filled with computationally inefficient for-loops. Vectorize the code such that these for loops are one/two-liners with matrix multiplications. This will greatly speed up your code. \n",
    "2. Use the mixtures of Gaussians model to classify the skin/non-skin data. You need to use the same training data and inference model you used in part A along with all the \n",
    "    functions you've completed in part C to perform MoG training on multi-dimensional data. \n",
    "3. Use the Gaussian model (with diagonal covariance) to classify\n",
    "face/non-face data (in FaceData.mat)\n",
    "4. Use the mixtures of Gaussians model (with diagonal covariance) to\n",
    "classify the face/non-face data\n",
    "5. Use the t-distribution instead of the normal distribution\n"
   ]
  },
  {
   "cell_type": "code",
   "execution_count": null,
   "metadata": {},
   "outputs": [],
   "source": []
  }
 ],
 "metadata": {
  "kernelspec": {
   "display_name": "Python 3 (ipykernel)",
   "language": "python",
   "name": "python3"
  },
  "language_info": {
   "codemirror_mode": {
    "name": "ipython",
    "version": 3
   },
   "file_extension": ".py",
   "mimetype": "text/x-python",
   "name": "python",
   "nbconvert_exporter": "python",
   "pygments_lexer": "ipython3",
   "version": "3.10.7"
  }
 },
 "nbformat": 4,
 "nbformat_minor": 2
}
